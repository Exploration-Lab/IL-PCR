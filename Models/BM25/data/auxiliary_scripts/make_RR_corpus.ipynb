{
 "cells": [
  {
   "attachments": {},
   "cell_type": "markdown",
   "id": "d32c4370",
   "metadata": {},
   "source": [
    "## Get all rhetorical roles"
   ]
  },
  {
   "cell_type": "code",
   "execution_count": 1,
   "id": "3aaef14e",
   "metadata": {},
   "outputs": [],
   "source": [
    "import os, sys, re\n",
    "from tqdm.notebook import tqdm_notebook"
   ]
  },
  {
   "cell_type": "code",
   "execution_count": 50,
   "id": "22bd10d7",
   "metadata": {},
   "outputs": [
    {
     "data": {
      "text/plain": [
       "['Fact',\n",
       " 'Dissent',\n",
       " 'RatioOfTheDecision',\n",
       " 'Statute',\n",
       " 'Precedent',\n",
       " 'Argument',\n",
       " 'RulingByLowerCourt',\n",
       " 'RulingByPresentCourt']"
      ]
     },
     "execution_count": 50,
     "metadata": {},
     "output_type": "execute_result"
    }
   ],
   "source": [
    "import json\n",
    "# path_RR_file = f\"../segment_dictionaries/RR/Output_Data/RR_Output_Data/sent_data_test_coliee21_candidate_rr_results.json\"\n",
    "# out_folder_path = f\"../corpus/COLIEE2021_RR_test/\"\n",
    "# query_numbers = os.listdir('../corpus/COLIEE2021/test/query/')    # get query numbers\n",
    "\n",
    "query_numbers = [int(re.findall(r'\\d+', i)[0]) for i in query_numbers]\n",
    "\n",
    "with open(path_RR_file, 'r') as f:\n",
    "    content = json.load(f)\n",
    "\n",
    "roles = set()\n",
    "for i,val in content.items():\n",
    "    for sentence in val:\n",
    "        roles.add(sentence[1])\n",
    "roles = list(roles)\n",
    "roles"
   ]
  },
  {
   "attachments": {},
   "cell_type": "markdown",
   "id": "08e2b09b",
   "metadata": {},
   "source": [
    "### Make corpus with custom RR"
   ]
  },
  {
   "cell_type": "code",
   "execution_count": null,
   "id": "61969068",
   "metadata": {},
   "outputs": [],
   "source": [
    "r_query = ['Fact', 'Argument', 'RatioOfTheDecision']    # roles selected for the query documents\n",
    "r_candidate = ['Fact', 'Argument', 'RatioOfTheDecision', 'RulingByPresentCourt']    # roles selected for the candidate documents\n",
    "\n",
    "query_path = out_folder_path + f'/query/'\n",
    "candidate_path = out_folder_path + f'/candidate/'\n",
    "os.makedirs(out_folder_path, exist_ok=True)\n",
    "os.makedirs(query_path, exist_ok=True)\n",
    "os.makedirs(candidate_path, exist_ok=True)\n",
    "\n",
    "query_corpus = []\n",
    "for num, doc in tqdm_notebook(content.items()):\n",
    "    num = int(num)\n",
    "    if(num in query_numbers):\n",
    "        r1_content = [i[0] for i in doc if i[1] in r_query]\n",
    "        file = query_path + f'{num:010d}.txt'\n",
    "        with open(file, 'w') as f:\n",
    "            f.write(\". \".join(r1_content))\n",
    "\n",
    "# get candidate\n",
    "for num, doc in tqdm_notebook(content.items()):\n",
    "    num = int(num)\n",
    "    r2_content = [i[0] for i in doc if i[1] in r_candidate]\n",
    "    file = candidate_path + f'{num:010d}.txt'\n",
    "    with open(file, 'w') as f:\n",
    "        f.write(\". \".join(r2_content))"
   ]
  }
 ],
 "metadata": {
  "kernelspec": {
   "display_name": "venv_dataset",
   "language": "python",
   "name": "venv_dataset"
  },
  "language_info": {
   "codemirror_mode": {
    "name": "ipython",
    "version": 3
   },
   "file_extension": ".py",
   "mimetype": "text/x-python",
   "name": "python",
   "nbconvert_exporter": "python",
   "pygments_lexer": "ipython3",
   "version": "3.10.6"
  },
  "vscode": {
   "interpreter": {
    "hash": "31f2aee4e71d21fbe5cf8b01ff0e069b9275f58929596ceb00d14d90e3e16cd6"
   }
  }
 },
 "nbformat": 4,
 "nbformat_minor": 5
}
