{
 "cells": [
  {
   "attachments": {},
   "cell_type": "markdown",
   "metadata": {},
   "source": [
    "1. This file converts the ground truth label csv for the COLIEE2021/22 datasets into a lighter json format.\n",
    "2. The experiments for the paper U-CREAT work with the json labels file.\n",
    "3. If working with COLIEE datasets you must convert the .csv label files into the required .json format."
   ]
  },
  {
   "cell_type": "code",
   "execution_count": 2,
   "metadata": {},
   "outputs": [],
   "source": [
    "import json\n",
    "import pandas as pd, numpy as np\n",
    "import re, os, sys"
   ]
  },
  {
   "cell_type": "code",
   "execution_count": 5,
   "metadata": {},
   "outputs": [],
   "source": [
    "label_file_path = '../corpus/ik_val/val.csv'      \n",
    "\n",
    "query_dir_path = label_file_path[:label_file_path.rfind(\"/\")] + f'/query'\n",
    "candidate_dir_path = label_file_path[:label_file_path.rfind(\"/\")] + f'/candidate'\n",
    "save_path = label_file_path[:label_file_path.rfind(\".\")] + f'.json' # json file of the same name\n",
    "\n",
    "query_names = os.listdir(query_dir_path)\n",
    "candidate_names = os.listdir(candidate_dir_path)\n",
    "\n",
    "df = pd.read_csv(label_file_path)\n",
    "\n",
    "golden, golden_citations = {}, {}\n",
    "output_json = {\n",
    "    \"Query Set\" : [], \n",
    "    \"Candidate Set\" : [], \n",
    "}\n",
    "\n",
    "for i in range(df.shape[0]):\n",
    "    query_case = df.iloc[i]['Query Case']\n",
    "    query_case = query_case.zfill(14)   # 6 for the coliee dataset\n",
    "    assert query_case in query_names, f\"{query_case} not in query_names!\"\n",
    "\n",
    "    candidate_cases = df.iloc[i]['Cited Cases']\n",
    "    candidate_cases = [i for i in re.findall(r'\\d+.txt', candidate_cases)]\n",
    "\n",
    "    for candidate in candidate_cases:\n",
    "        assert candidate in candidate_names, f\"{candidate} not in candidate_names!\"\n",
    "\n",
    "    # golden[query_case] = len(candidate_cases)\n",
    "    # golden_citations[query_case] = candidate_cases\n",
    "    output_json[\"Query Set\"].append({\n",
    "        \"id\" : query_case, \n",
    "        \"query_name\" : query_case, \n",
    "        \"relevant candidates\" : candidate_cases,\n",
    "    })\n",
    "\n",
    "output_json[\"Candidate Set\"] = [{\"id\" : i} for i in candidate_names]\n",
    "with open(save_path, 'w+') as f:\n",
    "    json.dump(output_json, f, indent = 4)"
   ]
  }
 ],
 "metadata": {
  "kernelspec": {
   "display_name": "Python 3",
   "language": "python",
   "name": "python3"
  },
  "language_info": {
   "codemirror_mode": {
    "name": "ipython",
    "version": 3
   },
   "file_extension": ".py",
   "mimetype": "text/x-python",
   "name": "python",
   "nbconvert_exporter": "python",
   "pygments_lexer": "ipython3",
   "version": "3.10.6"
  },
  "orig_nbformat": 4
 },
 "nbformat": 4,
 "nbformat_minor": 2
}
